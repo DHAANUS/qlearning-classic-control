{
  "nbformat": 4,
  "nbformat_minor": 0,
  "metadata": {
    "colab": {
      "provenance": [],
      "machine_shape": "hm",
      "gpuType": "L4"
    },
    "kernelspec": {
      "name": "python3",
      "display_name": "Python 3"
    },
    "language_info": {
      "name": "python"
    },
    "accelerator": "GPU"
  },
  "cells": [
    {
      "cell_type": "code",
      "execution_count": null,
      "metadata": {
        "id": "QlQ4bxs0in1O",
        "colab": {
          "base_uri": "https://localhost:8080/"
        },
        "outputId": "2a5441a6-e841-40a7-fe92-6f97da8fbf52"
      },
      "outputs": [
        {
          "output_type": "stream",
          "name": "stdout",
          "text": [
            "Collecting pyvirtualdisplay\n",
            "  Downloading PyVirtualDisplay-3.0-py3-none-any.whl.metadata (943 bytes)\n",
            "Downloading PyVirtualDisplay-3.0-py3-none-any.whl (15 kB)\n",
            "Installing collected packages: pyvirtualdisplay\n",
            "Successfully installed pyvirtualdisplay-3.0\n"
          ]
        }
      ],
      "source": [
        "pip install pyvirtualdisplay"
      ]
    },
    {
      "cell_type": "code",
      "source": [
        "pip install pygame"
      ],
      "metadata": {
        "colab": {
          "base_uri": "https://localhost:8080/"
        },
        "id": "kn8Sc7l927mR",
        "outputId": "31f951ba-5c54-4e0e-c7fd-1d469b10508e"
      },
      "execution_count": null,
      "outputs": [
        {
          "output_type": "stream",
          "name": "stdout",
          "text": [
            "Requirement already satisfied: pygame in /usr/local/lib/python3.11/dist-packages (2.6.1)\n"
          ]
        }
      ]
    },
    {
      "cell_type": "code",
      "source": [
        "import os\n",
        "os.kill(os.getpid(), 9)"
      ],
      "metadata": {
        "id": "8wiYmdlA3EP6"
      },
      "execution_count": null,
      "outputs": []
    },
    {
      "cell_type": "code",
      "source": [
        "from pyvirtualdisplay import Display\n",
        "\n",
        "virtual_display = Display(visible=0, size=(1400, 900))\n",
        "virtual_display.start()"
      ],
      "metadata": {
        "colab": {
          "base_uri": "https://localhost:8080/"
        },
        "id": "n300hkmf3P2R",
        "outputId": "4f444c84-a940-457f-94e2-4d5ed7e1c5f6"
      },
      "execution_count": null,
      "outputs": [
        {
          "output_type": "execute_result",
          "data": {
            "text/plain": [
              "<pyvirtualdisplay.display.Display at 0x7cadfe2c40d0>"
            ]
          },
          "metadata": {},
          "execution_count": 1
        }
      ]
    },
    {
      "cell_type": "code",
      "source": [
        "import numpy as np\n",
        "import gymnasium as gym\n",
        "import random\n",
        "import imageio\n",
        "import os\n",
        "import tqdm\n",
        "\n",
        "import pickle as pickle\n",
        "from tqdm.notebook import tqdm\n",
        "\n"
      ],
      "metadata": {
        "id": "fi06cryw3jqJ"
      },
      "execution_count": null,
      "outputs": []
    },
    {
      "cell_type": "code",
      "source": [
        "env = gym.make('FrozenLake-v1', map_name=\"4x4\", is_slippery=False, render_mode=\"rgb_array\")"
      ],
      "metadata": {
        "id": "KjwT25or31_r"
      },
      "execution_count": null,
      "outputs": []
    },
    {
      "cell_type": "markdown",
      "source": [
        "creating custom grid like this"
      ],
      "metadata": {
        "id": "SheSj6P04bLq"
      }
    },
    {
      "cell_type": "code",
      "source": [
        "desc = [\"SFFF\",\"FHFH\",\"FFHH\",\"HFFG\"]"
      ],
      "metadata": {
        "id": "FaQWBXvh4OoQ"
      },
      "execution_count": null,
      "outputs": []
    },
    {
      "cell_type": "code",
      "source": [
        "env = gym.make('FrozenLake-v1', desc=desc, is_slippery=False)"
      ],
      "metadata": {
        "id": "v_TTklq24lDs"
      },
      "execution_count": null,
      "outputs": []
    },
    {
      "cell_type": "code",
      "source": [
        "print(env.observation_space)"
      ],
      "metadata": {
        "colab": {
          "base_uri": "https://localhost:8080/"
        },
        "id": "9Sl5n-vk4utt",
        "outputId": "cf8bdd81-61e5-488c-9bce-6528f3993452"
      },
      "execution_count": null,
      "outputs": [
        {
          "output_type": "stream",
          "name": "stdout",
          "text": [
            "Discrete(16)\n"
          ]
        }
      ]
    },
    {
      "cell_type": "code",
      "source": [
        "print(env.observation_space.sample())"
      ],
      "metadata": {
        "colab": {
          "base_uri": "https://localhost:8080/"
        },
        "id": "IX3jwKc_4zOL",
        "outputId": "d26c49ac-18a2-44b9-f479-f0d79d4b0392"
      },
      "execution_count": null,
      "outputs": [
        {
          "output_type": "stream",
          "name": "stdout",
          "text": [
            "7\n"
          ]
        }
      ]
    },
    {
      "cell_type": "code",
      "source": [
        "print(env.action_space)"
      ],
      "metadata": {
        "colab": {
          "base_uri": "https://localhost:8080/"
        },
        "id": "HFOL5L2M45UI",
        "outputId": "701172f6-e718-42c0-9e2a-6fec96344a76"
      },
      "execution_count": null,
      "outputs": [
        {
          "output_type": "stream",
          "name": "stdout",
          "text": [
            "Discrete(4)\n"
          ]
        }
      ]
    },
    {
      "cell_type": "code",
      "source": [
        "print(env.action_space.sample())"
      ],
      "metadata": {
        "colab": {
          "base_uri": "https://localhost:8080/"
        },
        "id": "rdMwMIVt5vbA",
        "outputId": "69cd60ca-2fe4-4593-e875-beda32b06252"
      },
      "execution_count": null,
      "outputs": [
        {
          "output_type": "stream",
          "name": "stdout",
          "text": [
            "2\n"
          ]
        }
      ]
    },
    {
      "cell_type": "code",
      "source": [
        "print(env.action_space.n)"
      ],
      "metadata": {
        "colab": {
          "base_uri": "https://localhost:8080/"
        },
        "id": "VQ056lmt5wyc",
        "outputId": "2730e4d8-f7ba-4458-d79d-93ad1e91138f"
      },
      "execution_count": null,
      "outputs": [
        {
          "output_type": "stream",
          "name": "stdout",
          "text": [
            "4\n"
          ]
        }
      ]
    },
    {
      "cell_type": "code",
      "source": [
        "state_space = env.observation_space.n\n",
        "print(state_space)"
      ],
      "metadata": {
        "colab": {
          "base_uri": "https://localhost:8080/"
        },
        "id": "pNHFZ45g58o4",
        "outputId": "b13bac80-39c6-40fa-8394-918c09c29641"
      },
      "execution_count": null,
      "outputs": [
        {
          "output_type": "stream",
          "name": "stdout",
          "text": [
            "16\n"
          ]
        }
      ]
    },
    {
      "cell_type": "code",
      "source": [
        "action_space = env.action_space.n\n",
        "print(action_space)"
      ],
      "metadata": {
        "colab": {
          "base_uri": "https://localhost:8080/"
        },
        "id": "d2sjvxv_6VbS",
        "outputId": "0dbd36ed-0df4-4371-a433-384bf0cf599e"
      },
      "execution_count": null,
      "outputs": [
        {
          "output_type": "stream",
          "name": "stdout",
          "text": [
            "4\n"
          ]
        }
      ]
    },
    {
      "cell_type": "code",
      "source": [
        "def Q_table(state_space, action_space):\n",
        "  qtable = np.zeros((state_space, action_space))\n",
        "  return qtable"
      ],
      "metadata": {
        "id": "vLeJNHgYCThw"
      },
      "execution_count": null,
      "outputs": []
    },
    {
      "cell_type": "code",
      "source": [
        "qtable = Q_table(state_space, action_space)"
      ],
      "metadata": {
        "id": "FJ7YZERQ6ZY7"
      },
      "execution_count": null,
      "outputs": []
    },
    {
      "cell_type": "code",
      "source": [
        "qtable = Q_table(state_space, action_space)\n",
        "display(qtable)"
      ],
      "metadata": {
        "colab": {
          "base_uri": "https://localhost:8080/",
          "height": 302
        },
        "id": "ZGl2AsRw6o6x",
        "outputId": "c07bea2d-2d48-4db4-b031-f408209708f8"
      },
      "execution_count": null,
      "outputs": [
        {
          "output_type": "display_data",
          "data": {
            "text/plain": [
              "array([[0., 0., 0., 0.],\n",
              "       [0., 0., 0., 0.],\n",
              "       [0., 0., 0., 0.],\n",
              "       [0., 0., 0., 0.],\n",
              "       [0., 0., 0., 0.],\n",
              "       [0., 0., 0., 0.],\n",
              "       [0., 0., 0., 0.],\n",
              "       [0., 0., 0., 0.],\n",
              "       [0., 0., 0., 0.],\n",
              "       [0., 0., 0., 0.],\n",
              "       [0., 0., 0., 0.],\n",
              "       [0., 0., 0., 0.],\n",
              "       [0., 0., 0., 0.],\n",
              "       [0., 0., 0., 0.],\n",
              "       [0., 0., 0., 0.],\n",
              "       [0., 0., 0., 0.]])"
            ]
          },
          "metadata": {}
        }
      ]
    },
    {
      "cell_type": "code",
      "source": [
        "def greedy_pol(qtable, state):\n",
        "  action = np.argmax(qtable[state][:])\n",
        "  return action"
      ],
      "metadata": {
        "id": "od5hwWMn7gzY"
      },
      "execution_count": null,
      "outputs": []
    },
    {
      "cell_type": "code",
      "source": [
        "def epsilon_greedy_pol(qtable, state, epsilon):\n",
        "  random = np.random.uniform(0,1)\n",
        "  if random > epsilon:\n",
        "    action = greedy_pol(qtable, state)\n",
        "  else:\n",
        "    action = env.action_space.sample()\n",
        "  return action"
      ],
      "metadata": {
        "id": "2pLuG5Mw8QUP"
      },
      "execution_count": null,
      "outputs": []
    },
    {
      "cell_type": "markdown",
      "source": [
        "Hyperparameters"
      ],
      "metadata": {
        "id": "GZJGlMQK9TwA"
      }
    },
    {
      "cell_type": "code",
      "source": [
        "n_training_eps = 10000\n",
        "lr = 0.7\n",
        "n_eval_eps = 100\n",
        "env_id = \"FrozenLake-v1\"\n",
        "max_steps = 99\n",
        "gamma = 0.05\n",
        "eval_seeds = []\n",
        "max_epsilon = 1.0\n",
        "min_epsilon = 0.005\n",
        "decay_rate = 0.0005"
      ],
      "metadata": {
        "id": "awF3639G8u0w"
      },
      "execution_count": null,
      "outputs": []
    },
    {
      "cell_type": "markdown",
      "source": [
        "ϵ ep =ϵ min +(ϵ max − ϵ min)⋅e\n",
        "−decay_rate⋅ep\n"
      ],
      "metadata": {
        "id": "yhwFJIKPAnEO"
      }
    },
    {
      "cell_type": "code",
      "source": [
        "def train(n_training_eps, min_epsilon, max_epsilon, decay_rate, env, max_steps, qtable):\n",
        "  for ep in tqdm(range(n_training_eps)):\n",
        "    epsilon = min_epsilon + (max_epsilon - min_epsilon)*np.exp(-decay_rate*ep)\n",
        "    state,info = env.reset()\n",
        "\n",
        "    step=0\n",
        "    terminated = False\n",
        "    truncated = False\n",
        "\n",
        "    for step in range(max_steps):\n",
        "      action = epsilon_greedy_pol(qtable,state,epsilon)\n",
        "\n",
        "      new_state, reward, terminated, truncated, info= env.step(action)\n",
        "      qtable[state][action] = qtable[state][action] +lr*(reward + gamma*np.max(qtable[new_state]) - qtable[state][action])\n",
        "\n",
        "      if terminated or truncated:\n",
        "        break\n",
        "\n",
        "      state = new_state\n",
        "  return qtable"
      ],
      "metadata": {
        "id": "uUjG_ZeZB8IF"
      },
      "execution_count": null,
      "outputs": []
    },
    {
      "cell_type": "code",
      "source": [
        "q_table_frozen = train(n_training_eps, min_epsilon, max_epsilon, decay_rate, env, max_steps, qtable)\n"
      ],
      "metadata": {
        "id": "IRWghPkU_wMv"
      },
      "execution_count": null,
      "outputs": []
    },
    {
      "cell_type": "code",
      "source": [
        "def eval(env, max_steps, n_eval_eps, seed, Q):\n",
        "  ep_rewards = []\n",
        "  for ep in tqdm(range(n_eval_eps)):\n",
        "    if seed:\n",
        "      state, infp = env.reset(seed=seed[ep])\n",
        "    else:\n",
        "      state, info = env.reset()\n",
        "    step = 0\n",
        "    truncated = False\n",
        "    terminated = False\n",
        "    total_rewards_ep = 0\n",
        "\n",
        "    for step in range(max_steps):\n",
        "      action = greedy_pol(Q, state)\n",
        "      new_state, reward, terminated, truncated, info = env.step(action)\n",
        "      total_rewards_ep += reward\n",
        "\n",
        "      if terminated or truncated:\n",
        "        break\n",
        "      state = new_state\n",
        "    ep_rewards.append(total_rewards_ep)\n",
        "  mean_reward = np.mean(ep_rewards)\n",
        "  std_reward = np.std(ep_rewards)\n",
        "\n",
        "  return mean_reward, std_reward"
      ],
      "metadata": {
        "id": "phz7Wor4BkFC"
      },
      "execution_count": null,
      "outputs": []
    },
    {
      "cell_type": "code",
      "source": [
        "mean_reward, std_reward = eval(env, max_steps, n_eval_eps, eval_seeds, q_table_frozen)\n",
        "print(f\"Mean_reward={mean_reward:.2f} +/- {std_reward:.2f}\")"
      ],
      "metadata": {
        "colab": {
          "base_uri": "https://localhost:8080/",
          "height": 86,
          "referenced_widgets": [
            "627ae089f89d48d18ca16cde670aeab0",
            "3fbf912b3ccd48a0a0c2a7eb91ad2c4b",
            "6cb677626fb94ad2bdd238394619ae1c",
            "94bb481aa7784bd7b6cc8609af2161f4",
            "a4404be9b68b4fa8bea387f854fbfef3",
            "6d9b177aec404d66b4f62e5c2c8a51b7",
            "870376c75d844b0391f6945e7b265f95",
            "d10cdb7a7b7a44a5945a5b8122a08101",
            "d886c89966dd438abe8a2a5fac287c54",
            "11d2a855762e4dd0a862890c946f564a",
            "f56b64bfc4554aa2bb6946c6e5a9d139"
          ]
        },
        "id": "9dgb-oE5EuVp",
        "outputId": "9bc5f1da-80da-4fb9-98b1-25b9c44c2cd1"
      },
      "execution_count": null,
      "outputs": [
        {
          "output_type": "stream",
          "name": "stdout",
          "text": [
            "Mean_reward=1.00 +/- 0.00\n"
          ]
        }
      ]
    },
    {
      "cell_type": "code",
      "source": [],
      "metadata": {
        "id": "Dkk3lO7MEzut"
      },
      "execution_count": null,
      "outputs": []
    }
  ]
}